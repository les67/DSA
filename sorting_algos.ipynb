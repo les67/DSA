{
 "cells": [
  {
   "cell_type": "markdown",
   "id": "39cef9e2",
   "metadata": {},
   "source": [
    "# Implementing Core Sorting Algorithms\n",
    "\n",
    "## Selection Sort (aka Children's Algorithm)\n",
    "- Find the smallest element using a linear scan and move it to the front (swapping it with the front element). Then, find the second smallest and move it, again doing a linear scan. Continue doing this until all the elements are in place\n",
    "- Runtime: $\\mathcal{O}(n^2)$\n",
    "    - This is because you diminish the amount of data you have to look at by one until you're done. You start with N elements to inspect, then N-1, then N-2, ... In total you make 1+2+3+...+N-3+N-2+N-1 = N(N-1)/2 so the order is $\\mathcal{O}(n^2)$\n",
    "- Space: extra memory is not used, just swapping values so $\\mathcal{O}(1)$\n"
   ]
  },
  {
   "cell_type": "code",
   "execution_count": 4,
   "id": "794c9a5f",
   "metadata": {},
   "outputs": [],
   "source": [
    "def selsort(arr):\n",
    "    for i in range(len(arr)): # Search N first (entire array), then N-1, then N-2, etc\n",
    "        min_id = i # The index of the min is always the starting index (since scan is left to right) \n",
    "        for j in range(i+1,len(arr)): # Compare all remaining elements in subset to starting min\n",
    "            if arr[j] < arr[min_id]: # if a subsequent element is smaller than the current min \n",
    "                min_id = j # update the min index\n",
    "        # Once we're done with this subset and found the minimum (index)\n",
    "        arr[i],arr[min_id] = arr[min_id],arr[i] # swap the starting value (leftmost) with the actual minimum"
   ]
  },
  {
   "cell_type": "code",
   "execution_count": 5,
   "id": "35a92cd7",
   "metadata": {},
   "outputs": [
    {
     "name": "stdout",
     "output_type": "stream",
     "text": [
      "[-10, -1, 1, 5, 6, 8]\n"
     ]
    }
   ],
   "source": [
    "data = [1,6,8,5,-1,-10]\n",
    "selsort(data)\n",
    "print(data)"
   ]
  },
  {
   "cell_type": "markdown",
   "id": "892b7433",
   "metadata": {},
   "source": [
    "## Bubble Sort\n",
    "- Start at the beginning of the array and swap the first two elements if the first is greater than the second. Then, we go to the next pair, and so on, continuously making sweeps of the array until it is sorted. In doing so, the greater items slowly \"bubble\" up to the end of the list\n",
    "- Runtime: $\\mathcal{O}(n^2)$, for the same reason as above. After we find the first max, there are N-1 elements left. After we're done finding the next max, there are N-2 left, and so on.\n",
    "- Space: $\\mathcal{O}(1)$ since it relies on swapping the same fixed length array"
   ]
  },
  {
   "cell_type": "code",
   "execution_count": 6,
   "id": "e5b28748",
   "metadata": {},
   "outputs": [],
   "source": [
    "def bubsort(arr):\n",
    "    for i in range(len(arr)-1): # Going to look at every subset, starting with N elements, then N-1, then...\n",
    "                                # Exclude the last element bc you're comparing pairs and there's no element beyond last\n",
    "        for j in range(len(arr)-1-i): # Same as above but now iterating through the pairs\n",
    "            if arr[j] > arr[j+1]: # If the current element is greater than the next\n",
    "                arr[j+1],arr[j] = arr[j],arr[j+1] # Swap them, so the max moves up (to the right)"
   ]
  },
  {
   "cell_type": "code",
   "execution_count": 7,
   "id": "19952aca",
   "metadata": {},
   "outputs": [
    {
     "name": "stdout",
     "output_type": "stream",
     "text": [
      "[-10, -1, 1, 5, 6, 8]\n"
     ]
    }
   ],
   "source": [
    "data = [1,6,8,5,-1,-10]\n",
    "bubsort(data)\n",
    "print(data)"
   ]
  },
  {
   "cell_type": "markdown",
   "id": "8518dd15",
   "metadata": {},
   "source": [
    "# Quick Sort\n",
    "- A recursive algorithm in which we pick a random element and partition the array, such that all numbers that are less than the partitioning element come before all elements that are greater than it. The partitioning can be performed efficiently through a series of swaps\n",
    "    - The beginning pivot location is typically chosen as the last in the array\n",
    "- If we repeatedly partition the array (and its sub-arrays) around an element, the array will eventually become sorted. However, as the partitioned element is not guaranteed to be the median (or anywhere near the median), our sorting could be very slow. This is the reason for the time complexity being $n^2$\n",
    "- Runtime: $\\mathcal{O}(n\\log n)$ because you split the dataset by approximately $n/2$ every time and you run the algorithm $n$ times til you get to individual elements that can't be partitioned anymore\n",
    "- Space: $\\mathcal{O}(n\\log n)$"
   ]
  },
  {
   "cell_type": "code",
   "execution_count": 13,
   "id": "6fde94d1",
   "metadata": {},
   "outputs": [],
   "source": [
    "def quicksort(arr,start,end): # provide array and start and end indices to sort\n",
    "    \n",
    "    if start <= end: # as long as the start index is smaller than the end index\n",
    "                    # i.e there is some >1 (sub)array to partition\n",
    "        pivot_id = partition(arr,start,end)\n",
    "        \n",
    "        # Recursive\n",
    "        quicksort(arr,start,pivot_id-1)\n",
    "        quicksort(arr,pivot_id+1,end)\n",
    "    else: # once we're done breaking down all the subarrays\n",
    "        return\n",
    "        \n",
    "def partition(arr,start,end):\n",
    "    \n",
    "    pivot = arr[end] # set pivot to be the final element of array\n",
    "    i = start-1 # pointer for less-than subset, \n",
    "                # always beings pointing to position of less-than subset left edge\n",
    "    for j in range(start,end): # only look at subarray\n",
    "        if arr[j] <= pivot: # if the element we're inspecting is less than the pivot value\n",
    "            i+=1 # move the index of the less-than subarray one up to make room for the incoming value\n",
    "            arr[j],arr[i] = arr[i],arr[j] # swap whatever value is at i with the new less-than value from j\n",
    "    new_pivot_id = i+1\n",
    "    arr[end],arr[new_pivot_id] = arr[new_pivot_id],arr[end] # set the pivot in its rightful place\n",
    "                                                            # between the less-than and greater-than subarrays\n",
    "    return new_pivot_id"
   ]
  },
  {
   "cell_type": "code",
   "execution_count": 14,
   "id": "2c716678",
   "metadata": {},
   "outputs": [
    {
     "name": "stdout",
     "output_type": "stream",
     "text": [
      "[-10, -1, 1, 5, 6, 8]\n"
     ]
    }
   ],
   "source": [
    "data = [1,6,8,5,-1,-10]\n",
    "quicksort(data,0,len(data)-1)\n",
    "print(data)"
   ]
  }
 ],
 "metadata": {
  "kernelspec": {
   "display_name": "Python 3 (ipykernel)",
   "language": "python",
   "name": "python3"
  },
  "language_info": {
   "codemirror_mode": {
    "name": "ipython",
    "version": 3
   },
   "file_extension": ".py",
   "mimetype": "text/x-python",
   "name": "python",
   "nbconvert_exporter": "python",
   "pygments_lexer": "ipython3",
   "version": "3.7.6"
  }
 },
 "nbformat": 4,
 "nbformat_minor": 5
}
